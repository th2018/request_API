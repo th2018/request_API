{
 "cells": [
  {
   "cell_type": "code",
   "execution_count": 1,
   "id": "ccdeeefb-5098-4019-808e-fea1fbd49e45",
   "metadata": {},
   "outputs": [],
   "source": [
    "API_KEY = \"0PATrHF8J0sdmABoA90GT0v94X8FO2WlnX6rljR1C10PZ3hqfAf7d1Y07Sw7\""
   ]
  },
  {
   "cell_type": "markdown",
   "id": "c5523c33-d392-42c9-b34d-cbf4bddef8f9",
   "metadata": {},
   "source": [
    "https://openet.gitbook.io/docs/quick-start"
   ]
  },
  {
   "cell_type": "code",
   "execution_count": 2,
   "id": "153254f9-73c8-4f34-bae4-d3be260763d5",
   "metadata": {},
   "outputs": [
    {
     "name": "stdout",
     "output_type": "stream",
     "text": [
      "[{'time': '2024-05-01', 'et': 16.0}, {'time': '2024-06-01', 'et': 27.0}, {'time': '2024-07-01', 'et': 36.0}, {'time': '2024-08-01', 'et': 12.0}]\n"
     ]
    }
   ],
   "source": [
    "import requests\n",
    "\n",
    "# set your API key before making the request\n",
    "header = {\"Authorization\":  API_KEY}\n",
    "\n",
    "# endpoint arguments\n",
    "args = {\n",
    "  \"date_range\": [\n",
    "    \"2024-05-01\",\n",
    "    \"2024-08-31\"\n",
    "  ],\n",
    "  \"interval\": \"monthly\",\n",
    "  \"geometry\": [\n",
    "\n",
    "      \n",
    "-116.78915841691402,\n",
    "      43.12614568551117 \n",
    "  ],\n",
    "  \"model\": \"Ensemble\",\n",
    "  \"variable\": \"ET\",\n",
    "  \"reference_et\": \"gridMET\",\n",
    "  \"units\": \"mm\",\n",
    "  \"file_format\": \"JSON\"\n",
    "}\n",
    "\n",
    "# query the api \n",
    "resp = requests.post(\n",
    "    headers=header,\n",
    "    json=args,\n",
    "    url=\"https://openet-api.org/raster/timeseries/point\"\n",
    ")\n",
    "\n",
    "print(resp.json())\n"
   ]
  },
  {
   "cell_type": "code",
   "execution_count": null,
   "id": "c88f783b-0743-44e7-af16-cb06969db47c",
   "metadata": {},
   "outputs": [],
   "source": []
  }
 ],
 "metadata": {
  "kernelspec": {
   "display_name": "Python 3 (ipykernel)",
   "language": "python",
   "name": "python3"
  },
  "language_info": {
   "codemirror_mode": {
    "name": "ipython",
    "version": 3
   },
   "file_extension": ".py",
   "mimetype": "text/x-python",
   "name": "python",
   "nbconvert_exporter": "python",
   "pygments_lexer": "ipython3",
   "version": "3.12.4"
  }
 },
 "nbformat": 4,
 "nbformat_minor": 5
}
