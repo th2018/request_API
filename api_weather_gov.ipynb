{
 "cells": [
  {
   "cell_type": "markdown",
   "id": "899b4a94-c702-4c4d-b83b-12ee1e0872e5",
   "metadata": {},
   "source": [
    "The NWS API is based on a grid system, so you first need to find the correct grid ID and coordinates for your location. "
   ]
  },
  {
   "cell_type": "code",
   "execution_count": 1,
   "id": "05a209cf-f7f0-40c9-9bc5-a6be34e71f8f",
   "metadata": {},
   "outputs": [],
   "source": [
    "import requests #  making HTTP requests in Python.\n",
    "\n",
    "# Define your location (e.g., Boise, Idaho)\n",
    "latitude = 43.6150\n",
    "longitude = -116.2023\n"
   ]
  },
  {
   "cell_type": "markdown",
   "id": "945b5842-b364-4332-84fc-5eaa708b4198",
   "metadata": {},
   "source": [
    "api.weather.gov represents the public face of the next generation of data services from the National Weather Service."
   ]
  },
  {
   "cell_type": "code",
   "execution_count": 2,
   "id": "f69c423d-239d-4626-9fcf-3eb0034fa62d",
   "metadata": {},
   "outputs": [
    {
     "name": "stdout",
     "output_type": "stream",
     "text": [
      "Office: BOI, Grid X: 133, Grid Y: 86\n"
     ]
    }
   ],
   "source": [
    "# A User-Agent header is required for all requests\n",
    "headers = {\n",
    "    'User-Agent': 'MyWeatherApp/1.0 (https://myweatherapp.com, myemail@example.com)'\n",
    "}\n",
    "\n",
    "# Construct the URL for the /points endpoint\n",
    "url = f'https://api.weather.gov/points/{latitude},{longitude}'\n",
    "\n",
    "try:\n",
    "    # Make the GET request\n",
    "    response = requests.get(url, headers=headers)\n",
    "    response.raise_for_status()  # Raise an exception for bad status codes (4xx or 5xx)\n",
    "\n",
    "    # Parse the JSON response\n",
    "    point_data = response.json()\n",
    "\n",
    "    # Extract the grid details\n",
    "    office = point_data['properties']['gridId']\n",
    "    grid_x = point_data['properties']['gridX']\n",
    "    grid_y = point_data['properties']['gridY']\n",
    "\n",
    "    print(f\"Office: {office}, Grid X: {grid_x}, Grid Y: {grid_y}\")\n",
    "\n",
    "except requests.exceptions.RequestException as e:\n",
    "    print(f\"An error occurred: {e}\")"
   ]
  },
  {
   "cell_type": "code",
   "execution_count": 3,
   "id": "e5eb2a5e-fc8c-4004-9393-64d36304b07f",
   "metadata": {},
   "outputs": [
    {
     "name": "stdout",
     "output_type": "stream",
     "text": [
      "Time: Overnight\n",
      "Forecast: Clear, with a low around 65. South southeast wind around 2 mph.\n",
      "Temperature: 65°F\n",
      "---\n",
      "Time: Tuesday\n",
      "Forecast: Sunny, with a high near 98. Southwest wind 1 to 6 mph.\n",
      "Temperature: 98°F\n",
      "---\n",
      "Time: Tuesday Night\n",
      "Forecast: Patchy smoke between 9pm and 10pm. Mostly clear, with a low around 64. Northwest wind 2 to 7 mph.\n",
      "Temperature: 64°F\n",
      "---\n",
      "Time: Wednesday\n",
      "Forecast: Sunny, with a high near 94. West wind 2 to 9 mph.\n",
      "Temperature: 94°F\n",
      "---\n",
      "Time: Wednesday Night\n",
      "Forecast: Clear, with a low around 62. North northwest wind 2 to 10 mph.\n",
      "Temperature: 62°F\n",
      "---\n",
      "Time: Thursday\n",
      "Forecast: Sunny, with a high near 94.\n",
      "Temperature: 94°F\n",
      "---\n",
      "Time: Thursday Night\n",
      "Forecast: Mostly clear, with a low around 61.\n",
      "Temperature: 61°F\n",
      "---\n",
      "Time: Friday\n",
      "Forecast: Sunny, with a high near 98.\n",
      "Temperature: 98°F\n",
      "---\n",
      "Time: Friday Night\n",
      "Forecast: Partly cloudy, with a low around 67.\n",
      "Temperature: 67°F\n",
      "---\n",
      "Time: Saturday\n",
      "Forecast: Sunny, with a high near 100.\n",
      "Temperature: 100°F\n",
      "---\n",
      "Time: Saturday Night\n",
      "Forecast: Partly cloudy, with a low around 70.\n",
      "Temperature: 70°F\n",
      "---\n",
      "Time: Sunday\n",
      "Forecast: Mostly sunny, with a high near 97.\n",
      "Temperature: 97°F\n",
      "---\n",
      "Time: Sunday Night\n",
      "Forecast: Partly cloudy, with a low around 69.\n",
      "Temperature: 69°F\n",
      "---\n",
      "Time: Monday\n",
      "Forecast: Mostly sunny, with a high near 94.\n",
      "Temperature: 94°F\n",
      "---\n"
     ]
    }
   ],
   "source": [
    "\n",
    "# Construct the URL for the forecast endpoint\n",
    "forecast_url = point_data['properties']['forecast']\n",
    "\n",
    "try:\n",
    "    # Make the GET request for the forecast\n",
    "    forecast_response = requests.get(forecast_url, headers=headers)\n",
    "    forecast_response.raise_for_status()\n",
    "\n",
    "    # Parse the JSON response\n",
    "    forecast_data = forecast_response.json()\n",
    "\n",
    "    # Loop through the forecast periods and print details\n",
    "    periods = forecast_data['properties']['periods']\n",
    "    for period in periods:\n",
    "        print(f\"Time: {period['name']}\")\n",
    "        print(f\"Forecast: {period['detailedForecast']}\")\n",
    "        print(f\"Temperature: {period['temperature']}°{period['temperatureUnit']}\")\n",
    "        print(\"---\")\n",
    "\n",
    "except requests.exceptions.RequestException as e:\n",
    "    print(f\"An error occurred: {e}\")"
   ]
  },
  {
   "cell_type": "code",
   "execution_count": null,
   "id": "a7ff881b-31e2-4814-ade4-f1c61bd3f4f3",
   "metadata": {},
   "outputs": [],
   "source": []
  }
 ],
 "metadata": {
  "kernelspec": {
   "display_name": "Python 3 (ipykernel)",
   "language": "python",
   "name": "python3"
  },
  "language_info": {
   "codemirror_mode": {
    "name": "ipython",
    "version": 3
   },
   "file_extension": ".py",
   "mimetype": "text/x-python",
   "name": "python",
   "nbconvert_exporter": "python",
   "pygments_lexer": "ipython3",
   "version": "3.12.4"
  }
 },
 "nbformat": 4,
 "nbformat_minor": 5
}
